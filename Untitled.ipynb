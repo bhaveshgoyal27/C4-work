{
 "cells": [
  {
   "cell_type": "code",
   "execution_count": 1,
   "id": "furnished-oakland",
   "metadata": {},
   "outputs": [],
   "source": [
    "import snscrape.modules.twitter as sntwitter\n",
    "import pandas as pd"
   ]
  },
  {
   "cell_type": "code",
   "execution_count": 2,
   "id": "equivalent-vintage",
   "metadata": {},
   "outputs": [],
   "source": [
    "#maxTweets = 5000\n",
    "tweets_list = []\n",
    "\n",
    "for i,tweet in enumerate(sntwitter.TwitterSearchScraper('edtech since:2021-01-26 until:2021-01-28 lang:en').get_items()):\n",
    "    #if i>maxTweets:break\n",
    "    tweets_list.append([tweet.date, tweet.id, tweet.content, tweet.user.username])"
   ]
  },
  {
   "cell_type": "code",
   "execution_count": 3,
   "id": "designing-contract",
   "metadata": {},
   "outputs": [
    {
     "data": {
      "text/html": [
       "<div>\n",
       "<style scoped>\n",
       "    .dataframe tbody tr th:only-of-type {\n",
       "        vertical-align: middle;\n",
       "    }\n",
       "\n",
       "    .dataframe tbody tr th {\n",
       "        vertical-align: top;\n",
       "    }\n",
       "\n",
       "    .dataframe thead th {\n",
       "        text-align: right;\n",
       "    }\n",
       "</style>\n",
       "<table border=\"1\" class=\"dataframe\">\n",
       "  <thead>\n",
       "    <tr style=\"text-align: right;\">\n",
       "      <th></th>\n",
       "      <th>Datetime</th>\n",
       "      <th>Tweet Id</th>\n",
       "      <th>Text</th>\n",
       "      <th>Username</th>\n",
       "    </tr>\n",
       "  </thead>\n",
       "  <tbody>\n",
       "    <tr>\n",
       "      <th>0</th>\n",
       "      <td>2021-01-27 23:59:17+00:00</td>\n",
       "      <td>1354579765626351620</td>\n",
       "      <td>I would really appreciate you sharing this!  I...</td>\n",
       "      <td>MrsC_reads</td>\n",
       "    </tr>\n",
       "    <tr>\n",
       "      <th>1</th>\n",
       "      <td>2021-01-27 23:58:21+00:00</td>\n",
       "      <td>1354579530904690694</td>\n",
       "      <td>Discovered @text_blaze today. All I have to sa...</td>\n",
       "      <td>mrshirn_edtech</td>\n",
       "    </tr>\n",
       "    <tr>\n",
       "      <th>2</th>\n",
       "      <td>2021-01-27 23:56:39+00:00</td>\n",
       "      <td>1354579102972469252</td>\n",
       "      <td>Fan of https://t.co/jq2agxUiMt?  Make a One Ti...</td>\n",
       "      <td>HistoryViewVR</td>\n",
       "    </tr>\n",
       "    <tr>\n",
       "      <th>3</th>\n",
       "      <td>2021-01-27 23:56:18+00:00</td>\n",
       "      <td>1354579014510383106</td>\n",
       "      <td>*******PLEASE SHARE********\\n\\nI AM ALLLLLLL A...</td>\n",
       "      <td>educatoralex</td>\n",
       "    </tr>\n",
       "    <tr>\n",
       "      <th>4</th>\n",
       "      <td>2021-01-27 23:56:14+00:00</td>\n",
       "      <td>1354578997892550659</td>\n",
       "      <td>✏️  Did you see this awesome writing challenge...</td>\n",
       "      <td>ShakeUpLearning</td>\n",
       "    </tr>\n",
       "  </tbody>\n",
       "</table>\n",
       "</div>"
      ],
      "text/plain": [
       "                   Datetime             Tweet Id  \\\n",
       "0 2021-01-27 23:59:17+00:00  1354579765626351620   \n",
       "1 2021-01-27 23:58:21+00:00  1354579530904690694   \n",
       "2 2021-01-27 23:56:39+00:00  1354579102972469252   \n",
       "3 2021-01-27 23:56:18+00:00  1354579014510383106   \n",
       "4 2021-01-27 23:56:14+00:00  1354578997892550659   \n",
       "\n",
       "                                                Text         Username  \n",
       "0  I would really appreciate you sharing this!  I...       MrsC_reads  \n",
       "1  Discovered @text_blaze today. All I have to sa...   mrshirn_edtech  \n",
       "2  Fan of https://t.co/jq2agxUiMt?  Make a One Ti...    HistoryViewVR  \n",
       "3  *******PLEASE SHARE********\\n\\nI AM ALLLLLLL A...     educatoralex  \n",
       "4  ✏️  Did you see this awesome writing challenge...  ShakeUpLearning  "
      ]
     },
     "execution_count": 3,
     "metadata": {},
     "output_type": "execute_result"
    }
   ],
   "source": [
    "tweets_df = pd.DataFrame(tweets_list, columns=['Datetime', 'Tweet Id', 'Text', 'Username'])\n",
    "tweets_df.head()"
   ]
  },
  {
   "cell_type": "code",
   "execution_count": 4,
   "id": "primary-arcade",
   "metadata": {},
   "outputs": [
    {
     "name": "stdout",
     "output_type": "stream",
     "text": [
      "<class 'pandas.core.frame.DataFrame'>\n",
      "RangeIndex: 4155 entries, 0 to 4154\n",
      "Data columns (total 4 columns):\n",
      " #   Column    Non-Null Count  Dtype              \n",
      "---  ------    --------------  -----              \n",
      " 0   Datetime  4155 non-null   datetime64[ns, UTC]\n",
      " 1   Tweet Id  4155 non-null   int64              \n",
      " 2   Text      4155 non-null   object             \n",
      " 3   Username  4155 non-null   object             \n",
      "dtypes: datetime64[ns, UTC](1), int64(1), object(2)\n",
      "memory usage: 130.0+ KB\n"
     ]
    }
   ],
   "source": [
    "#tweets_df.to_csv('text-query-tweets1.csv', sep=',', index=False)\n",
    "tweets_df.info()"
   ]
  },
  {
   "cell_type": "code",
   "execution_count": 5,
   "id": "brutal-labor",
   "metadata": {},
   "outputs": [],
   "source": [
    "l = [x.strftime(\"%d\")+x.strftime(\"%b\")+x.strftime(\"%Y\") for x in tweets_df['Datetime']]"
   ]
  },
  {
   "cell_type": "code",
   "execution_count": 6,
   "id": "hairy-blind",
   "metadata": {},
   "outputs": [
    {
     "data": {
      "text/plain": [
       "{'26Jan2021', '27Jan2021'}"
      ]
     },
     "execution_count": 6,
     "metadata": {},
     "output_type": "execute_result"
    }
   ],
   "source": [
    "s = set(l)\n",
    "s"
   ]
  },
  {
   "cell_type": "code",
   "execution_count": 10,
   "id": "ceramic-establishment",
   "metadata": {},
   "outputs": [],
   "source": [
    "maxTweets = 200\n",
    "tweets_list1 = []\n",
    "\n",
    "for i,tweet in enumerate(sntwitter.TwitterSearchScraper('from:tanishqw18').get_items()):\n",
    "    if i>maxTweets:\n",
    "        break\n",
    "    tweets_list1.append([tweet.date, tweet.id, tweet.content, tweet.user.username])"
   ]
  },
  {
   "cell_type": "code",
   "execution_count": 11,
   "id": "intellectual-painting",
   "metadata": {},
   "outputs": [
    {
     "data": {
      "text/html": [
       "<div>\n",
       "<style scoped>\n",
       "    .dataframe tbody tr th:only-of-type {\n",
       "        vertical-align: middle;\n",
       "    }\n",
       "\n",
       "    .dataframe tbody tr th {\n",
       "        vertical-align: top;\n",
       "    }\n",
       "\n",
       "    .dataframe thead th {\n",
       "        text-align: right;\n",
       "    }\n",
       "</style>\n",
       "<table border=\"1\" class=\"dataframe\">\n",
       "  <thead>\n",
       "    <tr style=\"text-align: right;\">\n",
       "      <th></th>\n",
       "      <th>Datetime</th>\n",
       "      <th>Tweet Id</th>\n",
       "      <th>Text</th>\n",
       "      <th>Username</th>\n",
       "    </tr>\n",
       "  </thead>\n",
       "  <tbody>\n",
       "    <tr>\n",
       "      <th>0</th>\n",
       "      <td>2021-03-12 08:45:22+00:00</td>\n",
       "      <td>1370294836213915656</td>\n",
       "      <td>@Abhinavmir Not to mention, their claims that ...</td>\n",
       "      <td>tanishqw18</td>\n",
       "    </tr>\n",
       "    <tr>\n",
       "      <th>1</th>\n",
       "      <td>2021-03-12 08:43:45+00:00</td>\n",
       "      <td>1370294430318567424</td>\n",
       "      <td>@Abhinavmir It's fucking genius- the very idea...</td>\n",
       "      <td>tanishqw18</td>\n",
       "    </tr>\n",
       "    <tr>\n",
       "      <th>2</th>\n",
       "      <td>2021-03-11 11:39:39+00:00</td>\n",
       "      <td>1369976309741359107</td>\n",
       "      <td>@theadnaankhan Although for brands, the accoun...</td>\n",
       "      <td>tanishqw18</td>\n",
       "    </tr>\n",
       "    <tr>\n",
       "      <th>3</th>\n",
       "      <td>2021-03-11 11:37:32+00:00</td>\n",
       "      <td>1369975775529635846</td>\n",
       "      <td>@theadnaankhan I feel this whole construct of ...</td>\n",
       "      <td>tanishqw18</td>\n",
       "    </tr>\n",
       "    <tr>\n",
       "      <th>4</th>\n",
       "      <td>2021-03-10 20:02:00+00:00</td>\n",
       "      <td>1369740339246891009</td>\n",
       "      <td>@ankityddv Meanwhile, Data Scientists at Twitt...</td>\n",
       "      <td>tanishqw18</td>\n",
       "    </tr>\n",
       "  </tbody>\n",
       "</table>\n",
       "</div>"
      ],
      "text/plain": [
       "                   Datetime             Tweet Id  \\\n",
       "0 2021-03-12 08:45:22+00:00  1370294836213915656   \n",
       "1 2021-03-12 08:43:45+00:00  1370294430318567424   \n",
       "2 2021-03-11 11:39:39+00:00  1369976309741359107   \n",
       "3 2021-03-11 11:37:32+00:00  1369975775529635846   \n",
       "4 2021-03-10 20:02:00+00:00  1369740339246891009   \n",
       "\n",
       "                                                Text    Username  \n",
       "0  @Abhinavmir Not to mention, their claims that ...  tanishqw18  \n",
       "1  @Abhinavmir It's fucking genius- the very idea...  tanishqw18  \n",
       "2  @theadnaankhan Although for brands, the accoun...  tanishqw18  \n",
       "3  @theadnaankhan I feel this whole construct of ...  tanishqw18  \n",
       "4  @ankityddv Meanwhile, Data Scientists at Twitt...  tanishqw18  "
      ]
     },
     "execution_count": 11,
     "metadata": {},
     "output_type": "execute_result"
    }
   ],
   "source": [
    "tweets_df1 = pd.DataFrame(tweets_list1, columns=['Datetime', 'Tweet Id', 'Text', 'Username'])\n",
    "tweets_df1.head()"
   ]
  },
  {
   "cell_type": "code",
   "execution_count": 9,
   "id": "statutory-float",
   "metadata": {},
   "outputs": [
    {
     "data": {
      "text/plain": [
       "'\"To build a better world from the Covid crisis, we need a global push to connect the world’s young people.\" Couldn’t agree more with @timberners_lee as we celebrate the Web’s 32nd birthday today https://t.co/s8ErKwgkqB'"
      ]
     },
     "execution_count": 9,
     "metadata": {},
     "output_type": "execute_result"
    }
   ],
   "source": [
    "tweets_df1['Text'][0]"
   ]
  },
  {
   "cell_type": "code",
   "execution_count": null,
   "id": "external-sauce",
   "metadata": {},
   "outputs": [],
   "source": []
  }
 ],
 "metadata": {
  "kernelspec": {
   "display_name": "Python 3",
   "language": "python",
   "name": "python3"
  },
  "language_info": {
   "codemirror_mode": {
    "name": "ipython",
    "version": 3
   },
   "file_extension": ".py",
   "mimetype": "text/x-python",
   "name": "python",
   "nbconvert_exporter": "python",
   "pygments_lexer": "ipython3",
   "version": "3.8.8"
  }
 },
 "nbformat": 4,
 "nbformat_minor": 5
}
