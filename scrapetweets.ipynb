{
 "cells": [
  {
   "cell_type": "code",
   "execution_count": 1,
   "id": "surface-instrumentation",
   "metadata": {},
   "outputs": [],
   "source": [
    "import snscrape.modules.twitter as sntwitter\n",
    "import pandas as pd\n",
    "from datetime import datetime, timedelta"
   ]
  },
  {
   "cell_type": "code",
   "execution_count": 17,
   "id": "extraordinary-option",
   "metadata": {},
   "outputs": [],
   "source": [
    "today = datetime.now()\n",
    "i=0\n",
    "k=4\n",
    "tweets_list = []\n",
    "for j in range(60,100):\n",
    "    a = datetime.now() - timedelta(j)\n",
    "    b = datetime.now() - timedelta(j-1)\n",
    "    a = datetime.strftime(a, '%Y-%m-%d')\n",
    "    b = datetime.strftime(b, '%Y-%m-%d')\n",
    "    #print(a)\n",
    "    #print(b)\n",
    "    for _,tweet in enumerate(sntwitter.TwitterSearchScraper('edtech since:{} until:{} lang:en'.format(a,b)).get_items()):\n",
    "        tweets_list.append([tweet.date, tweet.id, tweet.content, tweet.user.username])\n",
    "        i+=1\n",
    "        if i%50000==0:\n",
    "            tweets_df = pd.DataFrame(tweets_list, columns=['Datetime', 'Tweet Id', 'Text', 'Username'])\n",
    "            tweets_df.to_csv('text-tweet{}.csv'.format(k), sep=',', index=False)\n",
    "            k+=1\n",
    "            tweets_list=[]\n",
    "tweets_df = pd.DataFrame(tweets_list, columns=['Datetime', 'Tweet Id', 'Text', 'Username'])\n",
    "tweets_df.to_csv('text-tweet{}.csv'.format(k), sep=',', index=False)\n",
    "k+=1"
   ]
  },
  {
   "cell_type": "code",
   "execution_count": 15,
   "id": "social-vinyl",
   "metadata": {},
   "outputs": [],
   "source": [
    "l = [x.strftime(\"%d\")+x.strftime(\"%b\")+x.strftime(\"%Y\") for x in tweets_df['Datetime']]"
   ]
  },
  {
   "cell_type": "code",
   "execution_count": 16,
   "id": "entertaining-limit",
   "metadata": {},
   "outputs": [
    {
     "data": {
      "text/plain": [
       "{'01Feb2021',\n",
       " '02Feb2021',\n",
       " '03Feb2021',\n",
       " '04Feb2021',\n",
       " '18Jan2021',\n",
       " '19Jan2021',\n",
       " '20Jan2021',\n",
       " '21Jan2021',\n",
       " '22Jan2021',\n",
       " '23Jan2021',\n",
       " '24Jan2021',\n",
       " '25Jan2021',\n",
       " '26Jan2021',\n",
       " '27Jan2021',\n",
       " '28Jan2021',\n",
       " '29Jan2021',\n",
       " '30Jan2021',\n",
       " '31Jan2021'}"
      ]
     },
     "execution_count": 16,
     "metadata": {},
     "output_type": "execute_result"
    }
   ],
   "source": [
    "set(l)"
   ]
  },
  {
   "cell_type": "code",
   "execution_count": 18,
   "id": "blind-instruction",
   "metadata": {},
   "outputs": [
    {
     "data": {
      "text/plain": [
       "49788"
      ]
     },
     "execution_count": 18,
     "metadata": {},
     "output_type": "execute_result"
    }
   ],
   "source": [
    "i"
   ]
  },
  {
   "cell_type": "code",
   "execution_count": null,
   "id": "stylish-green",
   "metadata": {},
   "outputs": [],
   "source": []
  }
 ],
 "metadata": {
  "kernelspec": {
   "display_name": "Python 3",
   "language": "python",
   "name": "python3"
  },
  "language_info": {
   "codemirror_mode": {
    "name": "ipython",
    "version": 3
   },
   "file_extension": ".py",
   "mimetype": "text/x-python",
   "name": "python",
   "nbconvert_exporter": "python",
   "pygments_lexer": "ipython3",
   "version": "3.8.8"
  }
 },
 "nbformat": 4,
 "nbformat_minor": 5
}
